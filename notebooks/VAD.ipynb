{
 "cells": [
  {
   "cell_type": "code",
   "execution_count": 1,
   "id": "initial_id",
   "metadata": {
    "collapsed": true,
    "ExecuteTime": {
     "end_time": "2023-09-08T12:58:32.921926567Z",
     "start_time": "2023-09-08T12:58:31.235463257Z"
    }
   },
   "outputs": [
    {
     "name": "stderr",
     "output_type": "stream",
     "text": [
      "playsound is relying on another python subprocess. Please use `pip install pygobject` if you want playsound to run more efficiently.\n"
     ]
    }
   ],
   "source": [
    "from dotenv import load_dotenv\n",
    "import os\n",
    "from pyannote.audio import Pipeline\n",
    "from playsound import playsound\n",
    "\n",
    "import pandas as pd\n",
    "from constants import metadata_file_mappings"
   ]
  },
  {
   "cell_type": "code",
   "execution_count": 2,
   "outputs": [
    {
     "name": "stderr",
     "output_type": "stream",
     "text": [
      "torchvision is not available - cannot save figures\n",
      "Lightning automatically upgraded your loaded checkpoint from v1.1.3 to v2.0.8. To apply the upgrade to your files permanently, run `python -m pytorch_lightning.utilities.upgrade_checkpoint --file ../../../../.cache/torch/pyannote/models--pyannote--segmentation/snapshots/059e96f964841d40f1a5e755bb7223f76666bba4/pytorch_model.bin`\n"
     ]
    },
    {
     "name": "stdout",
     "output_type": "stream",
     "text": [
      "Model was trained with pyannote.audio 0.0.1, yours is 2.1.1. Bad things might happen unless you revert pyannote.audio to 0.x.\n",
      "Model was trained with torch 1.7.1, yours is 2.0.1+cu117. Bad things might happen unless you revert torch to 1.x.\n"
     ]
    }
   ],
   "source": [
    "load_dotenv()\n",
    "ACCESS_TOKEN = os.getenv(\"ACCESS_TOKEN\")\n",
    "pipeline = Pipeline.from_pretrained(\"pyannote/voice-activity-detection\",\n",
    "                                    use_auth_token=ACCESS_TOKEN)"
   ],
   "metadata": {
    "collapsed": false,
    "ExecuteTime": {
     "end_time": "2023-09-08T12:58:52.566034891Z",
     "start_time": "2023-09-08T12:58:51.746936155Z"
    }
   },
   "id": "651dc4e868b6249b"
  },
  {
   "cell_type": "code",
   "execution_count": 28,
   "outputs": [],
   "source": [
    "df = pd.read_csv(\"../files/data/master_file_mappings.csv\")\n",
    "\n",
    "paths = df[\"path\"].values"
   ],
   "metadata": {
    "collapsed": false,
    "ExecuteTime": {
     "end_time": "2023-09-08T13:09:24.792602345Z",
     "start_time": "2023-09-08T13:09:24.784946808Z"
    }
   },
   "id": "9b21d19f670f2717"
  },
  {
   "cell_type": "code",
   "execution_count": 34,
   "outputs": [],
   "source": [
    "path = paths[5]"
   ],
   "metadata": {
    "collapsed": false,
    "ExecuteTime": {
     "end_time": "2023-09-08T13:19:54.266987645Z",
     "start_time": "2023-09-08T13:19:54.263996740Z"
    }
   },
   "id": "78c8806f0d0a3560"
  },
  {
   "cell_type": "code",
   "execution_count": 38,
   "outputs": [
    {
     "name": "stdout",
     "output_type": "stream",
     "text": [
      "/home/tim/Downloads/klippta_ljudfiler/w31_t01/S2_w31_t1_s51.wav\n"
     ]
    }
   ],
   "source": [
    "print(path)"
   ],
   "metadata": {
    "collapsed": false,
    "ExecuteTime": {
     "end_time": "2023-09-08T13:22:34.307885348Z",
     "start_time": "2023-09-08T13:22:34.305369655Z"
    }
   },
   "id": "9678f607991a0b34"
  },
  {
   "cell_type": "code",
   "execution_count": 39,
   "outputs": [
    {
     "name": "stdout",
     "output_type": "stream",
     "text": [
      "[[ 00:00:00.162 -->  00:00:00.981]\n",
      " [ 00:00:01.680 -->  00:00:04.411]\n",
      " [ 00:00:06.134 -->  00:00:13.370]]\n"
     ]
    },
    {
     "data": {
      "text/plain": "<Timeline(uri=S2_w31_t1_s51, segments=[<Segment(0.162116, 0.981229)>, <Segment(1.68089, 4.41126)>, <Segment(6.13481, 13.3703)>])>",
      "image/png": "[encoded data removed]"
     },
     "execution_count": 39,
     "metadata": {},
     "output_type": "execute_result"
    }
   ],
   "source": [
    "output = pipeline(path)\n",
    "\n",
    "# analyze_wave(path)\n",
    "\n",
    "print(output.get_timeline())\n",
    "\n",
    "output.get_timeline().support()"
   ],
   "metadata": {
    "collapsed": false,
    "ExecuteTime": {
     "end_time": "2023-09-08T13:24:07.829469948Z",
     "start_time": "2023-09-08T13:24:07.624020452Z"
    }
   },
   "id": "d9f0457b45b7dcf6"
  },
  {
   "cell_type": "code",
   "execution_count": 36,
   "outputs": [],
   "source": [
    "playsound(path)"
   ],
   "metadata": {
    "collapsed": false,
    "ExecuteTime": {
     "end_time": "2023-09-08T13:22:11.251764371Z",
     "start_time": "2023-09-08T13:21:56.948644900Z"
    }
   },
   "id": "c9768262b7c00146"
  }
 ],
 "metadata": {
  "kernelspec": {
   "display_name": "Python 3",
   "language": "python",
   "name": "python3"
  },
  "language_info": {
   "codemirror_mode": {
    "name": "ipython",
    "version": 2
   },
   "file_extension": ".py",
   "mimetype": "text/x-python",
   "name": "python",
   "nbconvert_exporter": "python",
   "pygments_lexer": "ipython2",
   "version": "2.7.6"
  }
 },
 "nbformat": 4,
 "nbformat_minor": 5
}
